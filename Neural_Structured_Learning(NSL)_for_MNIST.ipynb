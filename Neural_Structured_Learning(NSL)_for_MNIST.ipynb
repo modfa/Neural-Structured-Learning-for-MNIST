{
  "nbformat": 4,
  "nbformat_minor": 0,
  "metadata": {
    "colab": {
      "name": "Neural Structured Learning(NSL) for MNIST.ipynb",
      "provenance": [],
      "authorship_tag": "ABX9TyMuiTC05FckXrgTDOPFCX4j",
      "include_colab_link": true
    },
    "kernelspec": {
      "name": "python3",
      "display_name": "Python 3"
    }
  },
  "cells": [
    {
      "cell_type": "markdown",
      "metadata": {
        "id": "view-in-github",
        "colab_type": "text"
      },
      "source": [
        "<a href=\"https://colab.research.google.com/github/modfa/Neural-Structured-Learning-for-MNIST/blob/master/Neural_Structured_Learning(NSL)_for_MNIST.ipynb\" target=\"_parent\"><img src=\"https://colab.research.google.com/assets/colab-badge.svg\" alt=\"Open In Colab\"/></a>"
      ]
    },
    {
      "cell_type": "code",
      "metadata": {
        "id": "j-rTY1nAGJAG",
        "colab_type": "code",
        "colab": {
          "base_uri": "https://localhost:8080/",
          "height": 149
        },
        "outputId": "1d778a9b-935e-4d77-c531-41f7bcff946b"
      },
      "source": [
        "pip install --upgrade neural_structured_learning\n"
      ],
      "execution_count": 5,
      "outputs": [
        {
          "output_type": "stream",
          "text": [
            "Requirement already up-to-date: neural_structured_learning in /usr/local/lib/python3.6/dist-packages (1.1.0)\n",
            "Requirement already satisfied, skipping upgrade: attrs in /usr/local/lib/python3.6/dist-packages (from neural_structured_learning) (19.3.0)\n",
            "Requirement already satisfied, skipping upgrade: scipy in /usr/local/lib/python3.6/dist-packages (from neural_structured_learning) (1.4.1)\n",
            "Requirement already satisfied, skipping upgrade: six in /usr/local/lib/python3.6/dist-packages (from neural_structured_learning) (1.12.0)\n",
            "Requirement already satisfied, skipping upgrade: absl-py in /usr/local/lib/python3.6/dist-packages (from neural_structured_learning) (0.9.0)\n",
            "Requirement already satisfied, skipping upgrade: numpy>=1.13.3 in /usr/local/lib/python3.6/dist-packages (from scipy->neural_structured_learning) (1.17.5)\n"
          ],
          "name": "stdout"
        }
      ]
    },
    {
      "cell_type": "code",
      "metadata": {
        "id": "XD6dkugkFovv",
        "colab_type": "code",
        "colab": {
          "base_uri": "https://localhost:8080/",
          "height": 390
        },
        "outputId": "a408629f-bc9e-457a-c47b-e29c37c227bd"
      },
      "source": [
        "import tensorflow as tf\n",
        "import neural_structured_learning as nsl\n",
        "\n",
        "# Prepare data.\n",
        "(x_train, y_train), (x_test, y_test) = tf.keras.datasets.mnist.load_data()\n",
        "x_train, x_test = x_train / 255.0, x_test / 255.0\n",
        "\n",
        "# Create a base model -- sequential, functional, or subclass.\n",
        "model = tf.keras.Sequential([\n",
        "    tf.keras.Input((28, 28), name='feature'),\n",
        "    tf.keras.layers.Flatten(),\n",
        "    tf.keras.layers.Dense(128, activation=tf.nn.relu),\n",
        "    tf.keras.layers.Dense(10, activation=tf.nn.softmax)\n",
        "])\n",
        "\n",
        "# Wrap the model with adversarial regularization.\n",
        "adv_config = nsl.configs.make_adv_reg_config(multiplier=0.2, adv_step_size=0.05)\n",
        "adv_model = nsl.keras.AdversarialRegularization(model, adv_config=adv_config)\n",
        "\n",
        "# Compile, train, and evaluate.\n",
        "adv_model.compile(optimizer='adam',\n",
        "                  loss='sparse_categorical_crossentropy',\n",
        "                  metrics=['accuracy'])\n",
        "adv_model.fit({'feature': x_train, 'label': y_train}, batch_size=32, epochs=5)\n",
        "adv_model.evaluate({'feature': x_test, 'label': y_test})\n"
      ],
      "execution_count": 6,
      "outputs": [
        {
          "output_type": "stream",
          "text": [
            "WARNING:tensorflow:From /usr/local/lib/python3.6/dist-packages/neural_structured_learning/keras/adversarial_regularization.py:167: The name tf.losses.Reduction is deprecated. Please use tf.compat.v1.losses.Reduction instead.\n",
            "\n",
            "WARNING:tensorflow:From /usr/local/lib/python3.6/dist-packages/neural_structured_learning/lib/adversarial_neighbor.py:97: where (from tensorflow.python.ops.array_ops) is deprecated and will be removed in a future version.\n",
            "Instructions for updating:\n",
            "Use tf.where in 2.0, which has the same broadcast rule as np.where\n",
            "WARNING:tensorflow:Output output_1 missing from loss dictionary. We assume this was done on purpose. The fit and evaluate APIs will not be expecting any data to be passed to output_1.\n",
            "Train on 60000 samples\n",
            "Epoch 1/5\n",
            "60000/60000 [==============================] - 8s 139us/sample - loss: 0.3127 - sparse_categorical_crossentropy: 0.2557 - sparse_categorical_accuracy: 0.9271 - adversarial_loss: 0.2847\n",
            "Epoch 2/5\n",
            "60000/60000 [==============================] - 8s 135us/sample - loss: 0.1387 - sparse_categorical_crossentropy: 0.1121 - sparse_categorical_accuracy: 0.9669 - adversarial_loss: 0.1329\n",
            "Epoch 3/5\n",
            "60000/60000 [==============================] - 8s 135us/sample - loss: 0.0952 - sparse_categorical_crossentropy: 0.0764 - sparse_categorical_accuracy: 0.9773 - adversarial_loss: 0.0937\n",
            "Epoch 4/5\n",
            "60000/60000 [==============================] - 8s 137us/sample - loss: 0.0712 - sparse_categorical_crossentropy: 0.0568 - sparse_categorical_accuracy: 0.9833 - adversarial_loss: 0.0720\n",
            "Epoch 5/5\n",
            "60000/60000 [==============================] - 8s 135us/sample - loss: 0.0551 - sparse_categorical_crossentropy: 0.0437 - sparse_categorical_accuracy: 0.9866 - adversarial_loss: 0.0572\n",
            "10000/10000 [==============================] - 1s 90us/sample - loss: 0.0961 - sparse_categorical_crossentropy: 0.0769 - sparse_categorical_accuracy: 0.9773 - adversarial_loss: 0.0955\n"
          ],
          "name": "stdout"
        },
        {
          "output_type": "execute_result",
          "data": {
            "text/plain": [
              "[0.09610056084198877, 0.07685924, 0.9773, 0.09547546]"
            ]
          },
          "metadata": {
            "tags": []
          },
          "execution_count": 6
        }
      ]
    },
    {
      "cell_type": "code",
      "metadata": {
        "id": "BJu16fBYF5Z0",
        "colab_type": "code",
        "colab": {}
      },
      "source": [
        ""
      ],
      "execution_count": 0,
      "outputs": []
    }
  ]
}